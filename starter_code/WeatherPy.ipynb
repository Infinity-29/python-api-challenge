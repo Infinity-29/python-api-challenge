{
 "cells": [
  {
   "cell_type": "markdown",
   "metadata": {},
   "source": [
    "# WeatherPy\n",
    "----\n",
    "\n",
    "#### Note\n",
    "* Instructions have been included for each segment. You do not have to follow them exactly, but they are included to help you think through the steps."
   ]
  },
  {
   "cell_type": "code",
   "execution_count": 158,
   "metadata": {},
   "outputs": [
    {
     "name": "stdout",
     "output_type": "stream",
     "text": [
      "Requirement already satisfied: citipy in c:\\users\\priya\\anaconda3\\lib\\site-packages (0.0.5)Note: you may need to restart the kernel to use updated packages.\n",
      "Requirement already satisfied: kdtree>=0.12 in c:\\users\\priya\\anaconda3\\lib\\site-packages (from citipy) (0.16)\n",
      "\n"
     ]
    }
   ],
   "source": [
    "pip install citipy"
   ]
  },
  {
   "cell_type": "code",
   "execution_count": 280,
   "metadata": {
    "scrolled": true
   },
   "outputs": [],
   "source": [
    "# Dependencies and Setup\n",
    "import matplotlib.pyplot as plt\n",
    "import pandas as pd\n",
    "import numpy as np\n",
    "import requests\n",
    "import time\n",
    "from scipy.stats import linregress\n",
    "\n",
    "# Import API key\n",
    "from api_keys import weather_api_key\n",
    "\n",
    "# Incorporated citipy to determine city based on latitude and longitude\n",
    "from citipy import citipy\n",
    "\n",
    "# # Output File (CSV)\n",
    "# output_data_file = \"output_data/cities.csv\"\n",
    "\n",
    "# # Range of latitudes and longitudes\n",
    "lat_range = (-90, 90)\n",
    "lng_range = (-180, 180)"
   ]
  },
  {
   "cell_type": "markdown",
   "metadata": {},
   "source": [
    "## Generate Cities List"
   ]
  },
  {
   "cell_type": "code",
   "execution_count": 281,
   "metadata": {},
   "outputs": [
    {
     "data": {
      "text/plain": [
       "646"
      ]
     },
     "execution_count": 281,
     "metadata": {},
     "output_type": "execute_result"
    }
   ],
   "source": [
    "# List for holding lat_lngs and cities\n",
    "lat_lngs = []\n",
    "cities = []\n",
    "# Create a set of random lat and lng combinations\n",
    "lats = np.random.uniform(lat_range[0], lat_range[1], size=1500)\n",
    "lngs = np.random.uniform(lng_range[0], lng_range[1], size=1500)\n",
    "lat_lngs = zip(lats, lngs)\n",
    "\n",
    "# Identify nearest city for each lat, lng combination\n",
    "for lat_lng in lat_lngs:\n",
    "    city = citipy.nearest_city(lat_lng[0], lat_lng[1]).city_name\n",
    "    \n",
    "    # If the city is unique, then add it to a our cities list\n",
    "    if city not in cities:\n",
    "        cities.append(city)\n",
    "\n",
    "# Print the city count to confirm sufficient count\n",
    "len(cities)"
   ]
  },
  {
   "cell_type": "markdown",
   "metadata": {},
   "source": [
    "### Perform API Calls\n",
    "* Perform a weather check on each city using a series of successive API calls.\n",
    "* Include a print log of each city as it'sbeing processed (with the city number and city name).\n"
   ]
  },
  {
   "cell_type": "code",
   "execution_count": 282,
   "metadata": {},
   "outputs": [
    {
     "name": "stdout",
     "output_type": "stream",
     "text": [
      "Beginning Data Retrieval\n",
      "--------------------------------\n",
      "Processing Record 1 of Set 1 | ribeira grande\n",
      "Processing Record 2 of Set 1 | mataura\n",
      "Processing Record 3 of Set 1 | soto la marina\n",
      "Processing Record 4 of Set 1 | san juan\n",
      "Processing Record 5 of Set 1 | nyurba\n",
      "Processing Record 6 of Set 1 | ushuaia\n",
      "Processing Record 7 of Set 1 | bredasdorp\n",
      "Processing Record 8 of Set 1 | tilichiki\n",
      "Processing Record 9 of Set 1 | hasaki\n",
      "Processing Record 10 of Set 1 | ingham\n",
      "Processing Record 11 of Set 1 | cadillac\n",
      "City not found. Skipping...\n",
      "Processing Record 12 of Set 1 | hermanus\n",
      "Processing Record 13 of Set 1 | albany\n",
      "City not found. Skipping...\n",
      "Processing Record 14 of Set 1 | petropavlovsk-kamchatskiy\n",
      "Processing Record 15 of Set 1 | novyy urengoy\n",
      "Processing Record 16 of Set 1 | kupino\n",
      "City not found. Skipping...\n",
      "Processing Record 17 of Set 1 | chokurdakh\n",
      "Processing Record 18 of Set 1 | hilo\n",
      "Processing Record 19 of Set 1 | port elizabeth\n",
      "Processing Record 20 of Set 1 | kapaa\n",
      "Processing Record 21 of Set 1 | souillac\n",
      "Processing Record 22 of Set 1 | punta arenas\n",
      "Processing Record 23 of Set 1 | naze\n",
      "Processing Record 24 of Set 1 | provideniya\n",
      "Processing Record 25 of Set 1 | san rafael\n",
      "Processing Record 26 of Set 1 | cape town\n",
      "Processing Record 27 of Set 1 | victoria\n",
      "Processing Record 28 of Set 1 | faya\n",
      "Processing Record 29 of Set 1 | hamilton\n",
      "Processing Record 30 of Set 1 | coihaique\n",
      "Processing Record 31 of Set 1 | rikitea\n",
      "Processing Record 32 of Set 1 | busselton\n",
      "Processing Record 33 of Set 1 | kandrian\n",
      "Processing Record 34 of Set 1 | georgetown\n",
      "City not found. Skipping...\n",
      "Processing Record 35 of Set 1 | guanica\n",
      "Processing Record 36 of Set 1 | hithadhoo\n",
      "Processing Record 37 of Set 1 | cap malheureux\n",
      "Processing Record 38 of Set 1 | jamestown\n",
      "Processing Record 39 of Set 1 | kodiak\n",
      "Processing Record 40 of Set 1 | balatonfoldvar\n",
      "Processing Record 41 of Set 1 | mahebourg\n",
      "Processing Record 42 of Set 1 | kavaratti\n",
      "Processing Record 43 of Set 1 | aksarka\n",
      "Processing Record 44 of Set 1 | abnub\n",
      "Processing Record 45 of Set 1 | hobart\n",
      "Processing Record 46 of Set 1 | dingle\n",
      "Processing Record 47 of Set 1 | yumen\n",
      "Processing Record 48 of Set 1 | adrar\n",
      "Processing Record 49 of Set 1 | thompson\n",
      "Processing Record 0 of Set 2 | cayenne\n",
      "Processing Record 1 of Set 2 | saskylakh\n",
      "Processing Record 2 of Set 2 | buenos aires\n",
      "Processing Record 3 of Set 2 | bakchar\n",
      "Processing Record 4 of Set 2 | marsh harbour\n",
      "Processing Record 5 of Set 2 | davidson\n",
      "Processing Record 6 of Set 2 | butaritari\n",
      "Processing Record 7 of Set 2 | puerto escondido\n",
      "Processing Record 8 of Set 2 | cidreira\n",
      "Processing Record 9 of Set 2 | ilorin\n",
      "Processing Record 10 of Set 2 | aripuana\n",
      "Processing Record 11 of Set 2 | tuktoyaktuk\n",
      "Processing Record 12 of Set 2 | jizan\n",
      "City not found. Skipping...\n",
      "Processing Record 13 of Set 2 | morros\n",
      "Processing Record 14 of Set 2 | galesong\n",
      "Processing Record 15 of Set 2 | zhezkazgan\n",
      "Processing Record 16 of Set 2 | tasiilaq\n",
      "Processing Record 17 of Set 2 | bac lieu\n",
      "City not found. Skipping...\n",
      "City not found. Skipping...\n",
      "Processing Record 18 of Set 2 | tual\n",
      "Processing Record 19 of Set 2 | englewood\n",
      "Processing Record 20 of Set 2 | ryotsu\n",
      "Processing Record 21 of Set 2 | gisborne\n",
      "Processing Record 22 of Set 2 | puerto ayora\n",
      "Processing Record 23 of Set 2 | warri\n",
      "Processing Record 24 of Set 2 | yellowknife\n",
      "Processing Record 25 of Set 2 | kaitangata\n",
      "City not found. Skipping...\n",
      "Processing Record 26 of Set 2 | byron bay\n",
      "Processing Record 27 of Set 2 | san vicente de canete\n",
      "Processing Record 28 of Set 2 | bathsheba\n",
      "Processing Record 29 of Set 2 | ascension\n",
      "Processing Record 30 of Set 2 | gogrial\n",
      "City not found. Skipping...\n",
      "Processing Record 31 of Set 2 | san patricio\n",
      "Processing Record 32 of Set 2 | santiago del estero\n",
      "Processing Record 33 of Set 2 | faanui\n",
      "Processing Record 34 of Set 2 | formoso do araguaia\n",
      "Processing Record 35 of Set 2 | rawson\n",
      "City not found. Skipping...\n",
      "Processing Record 36 of Set 2 | visaginas\n",
      "City not found. Skipping...\n",
      "Processing Record 37 of Set 2 | bulgan\n",
      "Processing Record 38 of Set 2 | kushima\n",
      "Processing Record 39 of Set 2 | nizhneudinsk\n",
      "Processing Record 40 of Set 2 | ati\n",
      "Processing Record 41 of Set 2 | atuona\n",
      "Processing Record 42 of Set 2 | kruisfontein\n",
      "City not found. Skipping...\n",
      "Processing Record 43 of Set 2 | port lincoln\n",
      "Processing Record 44 of Set 2 | bethel\n",
      "Processing Record 45 of Set 2 | kununurra\n",
      "Processing Record 46 of Set 2 | new norfolk\n",
      "Processing Record 47 of Set 2 | haines junction\n",
      "Processing Record 48 of Set 2 | bluff\n",
      "Processing Record 49 of Set 2 | basco\n",
      "City not found. Skipping...\n",
      "Processing Record 0 of Set 3 | marana\n",
      "Processing Record 1 of Set 3 | clyde river\n",
      "City not found. Skipping...\n",
      "City not found. Skipping...\n",
      "Processing Record 2 of Set 3 | upernavik\n",
      "Processing Record 3 of Set 3 | tiksi\n",
      "Processing Record 4 of Set 3 | isangel\n",
      "Processing Record 5 of Set 3 | orito\n",
      "Processing Record 6 of Set 3 | aljezur\n",
      "Processing Record 7 of Set 3 | longyearbyen\n",
      "Processing Record 8 of Set 3 | golden\n",
      "Processing Record 9 of Set 3 | quelimane\n",
      "City not found. Skipping...\n",
      "City not found. Skipping...\n",
      "Processing Record 10 of Set 3 | lixourion\n",
      "Processing Record 11 of Set 3 | deputatskiy\n",
      "Processing Record 12 of Set 3 | dikson\n",
      "Processing Record 13 of Set 3 | lincoln\n",
      "Processing Record 14 of Set 3 | nanortalik\n",
      "Processing Record 15 of Set 3 | pichayevo\n",
      "Processing Record 16 of Set 3 | imeni poliny osipenko\n",
      "Processing Record 17 of Set 3 | vao\n",
      "Processing Record 18 of Set 3 | arlit\n",
      "Processing Record 19 of Set 3 | vaini\n",
      "Processing Record 20 of Set 3 | sakakah\n",
      "City not found. Skipping...\n",
      "Processing Record 21 of Set 3 | arraial do cabo\n",
      "Processing Record 22 of Set 3 | chuy\n",
      "City not found. Skipping...\n",
      "Processing Record 23 of Set 3 | fortuna\n",
      "Processing Record 24 of Set 3 | codrington\n",
      "Processing Record 25 of Set 3 | noumea\n",
      "Processing Record 26 of Set 3 | ponta delgada\n",
      "City not found. Skipping...\n",
      "Processing Record 27 of Set 3 | vestmanna\n",
      "Processing Record 28 of Set 3 | manzanillo\n",
      "Processing Record 29 of Set 3 | senneterre\n",
      "Processing Record 30 of Set 3 | lewistown\n",
      "Processing Record 31 of Set 3 | nkhotakota\n",
      "Processing Record 32 of Set 3 | edea\n",
      "Processing Record 33 of Set 3 | bambous virieux\n",
      "Processing Record 34 of Set 3 | kichera\n",
      "Processing Record 35 of Set 3 | loukhi\n",
      "Processing Record 36 of Set 3 | barrow\n",
      "Processing Record 37 of Set 3 | pevek\n",
      "Processing Record 38 of Set 3 | saint-philippe\n",
      "Processing Record 39 of Set 3 | klaksvik\n",
      "Processing Record 40 of Set 3 | qaanaaq\n",
      "Processing Record 41 of Set 3 | port blair\n",
      "Processing Record 42 of Set 3 | nabire\n",
      "Processing Record 43 of Set 3 | alta floresta\n",
      "Processing Record 44 of Set 3 | mackenzie\n",
      "Processing Record 45 of Set 3 | tonstad\n",
      "Processing Record 46 of Set 3 | strezhevoy\n",
      "Processing Record 47 of Set 3 | karpogory\n",
      "Processing Record 48 of Set 3 | omboue\n",
      "Processing Record 49 of Set 3 | necochea\n",
      "City not found. Skipping...\n",
      "Processing Record 0 of Set 4 | port alfred\n",
      "Processing Record 1 of Set 4 | jardim\n",
      "Processing Record 2 of Set 4 | mys shmidta\n",
      "Processing Record 3 of Set 4 | vostok\n",
      "Processing Record 4 of Set 4 | husavik\n",
      "Processing Record 5 of Set 4 | leshukonskoye\n",
      "Processing Record 6 of Set 4 | port hardy\n",
      "Processing Record 7 of Set 4 | kapoeta\n",
      "Processing Record 8 of Set 4 | ancud\n",
      "Processing Record 9 of Set 4 | luderitz\n",
      "City not found. Skipping...\n",
      "Processing Record 10 of Set 4 | ayagoz\n",
      "Processing Record 11 of Set 4 | narsaq\n",
      "Processing Record 12 of Set 4 | cairns\n",
      "Processing Record 13 of Set 4 | porto novo\n",
      "Processing Record 14 of Set 4 | weligama\n",
      "Processing Record 15 of Set 4 | sechura\n",
      "Processing Record 16 of Set 4 | mokhsogollokh\n",
      "Processing Record 17 of Set 4 | aklavik\n",
      "Processing Record 18 of Set 4 | talnakh\n",
      "Processing Record 19 of Set 4 | wewak\n",
      "Processing Record 20 of Set 4 | labuhan\n",
      "Processing Record 21 of Set 4 | scottsbluff\n",
      "Processing Record 22 of Set 4 | mount isa\n",
      "City not found. Skipping...\n",
      "Processing Record 23 of Set 4 | lasa\n",
      "Processing Record 24 of Set 4 | providencia\n",
      "City not found. Skipping...\n",
      "Processing Record 25 of Set 4 | phalaborwa\n",
      "Processing Record 26 of Set 4 | gorontalo\n",
      "City not found. Skipping...\n",
      "Processing Record 27 of Set 4 | berekum\n",
      "City not found. Skipping...\n",
      "Processing Record 28 of Set 4 | srednekolymsk\n",
      "Processing Record 29 of Set 4 | ordu\n"
     ]
    },
    {
     "name": "stdout",
     "output_type": "stream",
     "text": [
      "Processing Record 30 of Set 4 | torbay\n",
      "Processing Record 31 of Set 4 | iqaluit\n",
      "Processing Record 32 of Set 4 | miramar\n",
      "Processing Record 33 of Set 4 | grand river south east\n",
      "City not found. Skipping...\n",
      "Processing Record 34 of Set 4 | yulara\n",
      "Processing Record 35 of Set 4 | khatanga\n",
      "Processing Record 36 of Set 4 | sovetskaya\n",
      "Processing Record 37 of Set 4 | lompoc\n",
      "Processing Record 38 of Set 4 | severo-kurilsk\n",
      "Processing Record 39 of Set 4 | totma\n",
      "City not found. Skipping...\n",
      "Processing Record 40 of Set 4 | kachug\n",
      "Processing Record 41 of Set 4 | carbonia\n",
      "Processing Record 42 of Set 4 | nikolskoye\n",
      "Processing Record 43 of Set 4 | flinders\n",
      "City not found. Skipping...\n",
      "Processing Record 44 of Set 4 | sao joao da barra\n",
      "Processing Record 45 of Set 4 | huarmey\n",
      "Processing Record 46 of Set 4 | severobaykalsk\n",
      "Processing Record 47 of Set 4 | cantaura\n",
      "City not found. Skipping...\n",
      "Processing Record 48 of Set 4 | kahului\n",
      "Processing Record 49 of Set 4 | sao filipe\n",
      "Processing Record 0 of Set 5 | skhisma\n",
      "Processing Record 1 of Set 5 | trelew\n",
      "City not found. Skipping...\n",
      "Processing Record 2 of Set 5 | nandikotkur\n",
      "Processing Record 3 of Set 5 | florianopolis\n",
      "Processing Record 4 of Set 5 | awbari\n",
      "Processing Record 5 of Set 5 | pavilosta\n",
      "Processing Record 6 of Set 5 | hay river\n",
      "Processing Record 7 of Set 5 | christchurch\n",
      "Processing Record 8 of Set 5 | boa vista\n",
      "Processing Record 9 of Set 5 | avarua\n",
      "Processing Record 10 of Set 5 | tuatapere\n",
      "Processing Record 11 of Set 5 | covasint\n",
      "Processing Record 12 of Set 5 | popondetta\n",
      "Processing Record 13 of Set 5 | lianzhou\n",
      "Processing Record 14 of Set 5 | ponta do sol\n",
      "Processing Record 15 of Set 5 | castro\n",
      "Processing Record 16 of Set 5 | san bartolome de tirajana\n",
      "Processing Record 17 of Set 5 | korla\n",
      "Processing Record 18 of Set 5 | hengyang\n",
      "Processing Record 19 of Set 5 | krasnoselkup\n",
      "Processing Record 20 of Set 5 | mitsamiouli\n",
      "Processing Record 21 of Set 5 | mahur\n",
      "Processing Record 22 of Set 5 | trier\n",
      "Processing Record 23 of Set 5 | east london\n",
      "Processing Record 24 of Set 5 | morro bay\n",
      "Processing Record 25 of Set 5 | cururupu\n",
      "Processing Record 26 of Set 5 | uzhur\n",
      "Processing Record 27 of Set 5 | magadan\n",
      "City not found. Skipping...\n",
      "Processing Record 28 of Set 5 | zelenoborskiy\n",
      "Processing Record 29 of Set 5 | grindavik\n",
      "Processing Record 30 of Set 5 | nam tha\n",
      "Processing Record 31 of Set 5 | denpasar\n",
      "Processing Record 32 of Set 5 | deh rawud\n",
      "Processing Record 33 of Set 5 | matagami\n",
      "Processing Record 34 of Set 5 | taitung\n",
      "Processing Record 35 of Set 5 | kyakhta\n",
      "City not found. Skipping...\n",
      "Processing Record 36 of Set 5 | cherskiy\n",
      "Processing Record 37 of Set 5 | comodoro rivadavia\n",
      "Processing Record 38 of Set 5 | ilulissat\n",
      "Processing Record 39 of Set 5 | naryan-mar\n",
      "Processing Record 40 of Set 5 | morant bay\n",
      "Processing Record 41 of Set 5 | port hedland\n",
      "Processing Record 42 of Set 5 | mar del plata\n",
      "Processing Record 43 of Set 5 | bengkulu\n",
      "Processing Record 44 of Set 5 | harstad\n",
      "Processing Record 45 of Set 5 | erenhot\n",
      "Processing Record 46 of Set 5 | rio gallegos\n",
      "Processing Record 47 of Set 5 | lorengau\n",
      "Processing Record 48 of Set 5 | sayyan\n",
      "City not found. Skipping...\n",
      "Processing Record 49 of Set 5 | kangalassy\n",
      "Processing Record 0 of Set 6 | petaluma\n",
      "Processing Record 1 of Set 6 | santa cruz\n",
      "Processing Record 2 of Set 6 | mossendjo\n",
      "Processing Record 3 of Set 6 | paramonga\n",
      "Processing Record 4 of Set 6 | siuna\n",
      "Processing Record 5 of Set 6 | atar\n",
      "Processing Record 6 of Set 6 | savelugu\n",
      "Processing Record 7 of Set 6 | bhindar\n",
      "Processing Record 8 of Set 6 | iskateley\n",
      "Processing Record 9 of Set 6 | antsohihy\n",
      "City not found. Skipping...\n",
      "Processing Record 10 of Set 6 | ialibu\n",
      "Processing Record 11 of Set 6 | thinadhoo\n",
      "Processing Record 12 of Set 6 | ternate\n",
      "Processing Record 13 of Set 6 | hambantota\n",
      "Processing Record 14 of Set 6 | boffa\n",
      "Processing Record 15 of Set 6 | zyryanka\n",
      "City not found. Skipping...\n",
      "Processing Record 16 of Set 6 | aginskoye\n",
      "Processing Record 17 of Set 6 | asau\n",
      "Processing Record 18 of Set 6 | qasigiannguit\n",
      "Processing Record 19 of Set 6 | wanning\n",
      "Processing Record 20 of Set 6 | airai\n",
      "Processing Record 21 of Set 6 | saint-augustin\n",
      "Processing Record 22 of Set 6 | honiara\n",
      "Processing Record 23 of Set 6 | effingham\n",
      "Processing Record 24 of Set 6 | alice springs\n",
      "Processing Record 25 of Set 6 | katsuura\n",
      "Processing Record 26 of Set 6 | hualmay\n",
      "City not found. Skipping...\n",
      "Processing Record 27 of Set 6 | geraldton\n",
      "Processing Record 28 of Set 6 | cockburn town\n",
      "Processing Record 29 of Set 6 | ucluelet\n",
      "Processing Record 30 of Set 6 | amahai\n",
      "Processing Record 31 of Set 6 | port augusta\n",
      "Processing Record 32 of Set 6 | fairbanks\n",
      "Processing Record 33 of Set 6 | caravelas\n",
      "City not found. Skipping...\n",
      "Processing Record 34 of Set 6 | itapolis\n",
      "Processing Record 35 of Set 6 | plettenberg bay\n",
      "Processing Record 36 of Set 6 | konstantinovsk\n",
      "Processing Record 37 of Set 6 | nuuk\n",
      "Processing Record 38 of Set 6 | verkh-usugli\n",
      "Processing Record 39 of Set 6 | kirakira\n",
      "Processing Record 40 of Set 6 | emba\n",
      "Processing Record 41 of Set 6 | djenne\n",
      "Processing Record 42 of Set 6 | dondo\n",
      "Processing Record 43 of Set 6 | neuquen\n",
      "Processing Record 44 of Set 6 | lima\n",
      "Processing Record 45 of Set 6 | padang\n",
      "City not found. Skipping...\n",
      "Processing Record 46 of Set 6 | guerrero negro\n",
      "Processing Record 47 of Set 6 | kamyshin\n",
      "Processing Record 48 of Set 6 | tomohon\n",
      "Processing Record 49 of Set 6 | litovko\n",
      "City not found. Skipping...\n",
      "Processing Record 0 of Set 7 | meulaboh\n",
      "Processing Record 1 of Set 7 | namatanai\n",
      "Processing Record 2 of Set 7 | coquimbo\n",
      "Processing Record 3 of Set 7 | shyroke\n",
      "Processing Record 4 of Set 7 | maragogi\n",
      "Processing Record 5 of Set 7 | vila franca do campo\n",
      "Processing Record 6 of Set 7 | pangody\n",
      "Processing Record 7 of Set 7 | havelock\n",
      "Processing Record 8 of Set 7 | vardo\n",
      "Processing Record 9 of Set 7 | jalu\n",
      "Processing Record 10 of Set 7 | harrisburg\n",
      "Processing Record 11 of Set 7 | jambi\n",
      "Processing Record 12 of Set 7 | tadine\n",
      "Processing Record 13 of Set 7 | deer lake\n",
      "City not found. Skipping...\n",
      "Processing Record 14 of Set 7 | norman wells\n",
      "Processing Record 15 of Set 7 | inuvik\n",
      "Processing Record 16 of Set 7 | leningradskiy\n",
      "Processing Record 17 of Set 7 | namibe\n",
      "Processing Record 18 of Set 7 | bacolod\n",
      "Processing Record 19 of Set 7 | komsomolskiy\n",
      "Processing Record 20 of Set 7 | fuerte olimpo\n",
      "Processing Record 21 of Set 7 | fort nelson\n",
      "Processing Record 22 of Set 7 | derzhavinsk\n",
      "Processing Record 23 of Set 7 | avera\n",
      "City not found. Skipping...\n",
      "Processing Record 24 of Set 7 | batagay-alyta\n",
      "Processing Record 25 of Set 7 | shingu\n",
      "Processing Record 26 of Set 7 | carballo\n",
      "Processing Record 27 of Set 7 | guilin\n",
      "Processing Record 28 of Set 7 | benton harbor\n",
      "Processing Record 29 of Set 7 | parkent\n",
      "Processing Record 30 of Set 7 | shwebo\n",
      "Processing Record 31 of Set 7 | bataipora\n",
      "Processing Record 32 of Set 7 | saint-pierre\n",
      "Processing Record 33 of Set 7 | mora\n",
      "Processing Record 34 of Set 7 | bowen\n",
      "Processing Record 35 of Set 7 | uige\n",
      "Processing Record 36 of Set 7 | alcantara\n",
      "Processing Record 37 of Set 7 | bonthe\n",
      "Processing Record 38 of Set 7 | bud\n",
      "Processing Record 39 of Set 7 | canico\n",
      "Processing Record 40 of Set 7 | matveyevka\n",
      "Processing Record 41 of Set 7 | kidal\n",
      "Processing Record 42 of Set 7 | decatur\n",
      "Processing Record 43 of Set 7 | bardiyah\n",
      "Processing Record 44 of Set 7 | belmonte\n",
      "Processing Record 45 of Set 7 | altay\n",
      "Processing Record 46 of Set 7 | matara\n",
      "Processing Record 47 of Set 7 | lagoa\n",
      "City not found. Skipping...\n",
      "Processing Record 48 of Set 7 | bonfim\n",
      "Processing Record 49 of Set 7 | ostrovnoy\n",
      "City not found. Skipping...\n",
      "Processing Record 0 of Set 8 | nishihara\n",
      "Processing Record 1 of Set 8 | camana\n",
      "Processing Record 2 of Set 8 | sitka\n",
      "Processing Record 3 of Set 8 | wyndham\n",
      "Processing Record 4 of Set 8 | hailar\n",
      "Processing Record 5 of Set 8 | tasgaon\n",
      "Processing Record 6 of Set 8 | thakurgaon\n",
      "Processing Record 7 of Set 8 | xichang\n",
      "Processing Record 8 of Set 8 | esperance\n",
      "Processing Record 9 of Set 8 | kommunisticheskiy\n",
      "Processing Record 10 of Set 8 | gizo\n",
      "Processing Record 11 of Set 8 | benito juarez\n",
      "Processing Record 12 of Set 8 | harwich\n",
      "Processing Record 13 of Set 8 | rodas\n",
      "City not found. Skipping...\n",
      "Processing Record 14 of Set 8 | watertown\n",
      "Processing Record 15 of Set 8 | vallenar\n",
      "Processing Record 16 of Set 8 | juneau\n"
     ]
    },
    {
     "name": "stdout",
     "output_type": "stream",
     "text": [
      "Processing Record 17 of Set 8 | shimoda\n",
      "Processing Record 18 of Set 8 | wuning\n",
      "Processing Record 19 of Set 8 | coahuayana\n",
      "Processing Record 20 of Set 8 | praia da vitoria\n",
      "Processing Record 21 of Set 8 | manuk mangkaw\n",
      "Processing Record 22 of Set 8 | houma\n",
      "Processing Record 23 of Set 8 | fort saint james\n",
      "Processing Record 24 of Set 8 | ano mera\n",
      "Processing Record 25 of Set 8 | melendugno\n",
      "Processing Record 26 of Set 8 | rawah\n",
      "Processing Record 27 of Set 8 | sao miguel do araguaia\n",
      "Processing Record 28 of Set 8 | manggar\n",
      "Processing Record 29 of Set 8 | touros\n",
      "Processing Record 30 of Set 8 | setermoen\n",
      "Processing Record 31 of Set 8 | katherine\n",
      "Processing Record 32 of Set 8 | novo aripuana\n",
      "Processing Record 33 of Set 8 | rocha\n",
      "Processing Record 34 of Set 8 | raduzhnyy\n",
      "Processing Record 35 of Set 8 | nadym\n",
      "Processing Record 36 of Set 8 | otradnoye\n",
      "Processing Record 37 of Set 8 | zhuhai\n",
      "Processing Record 38 of Set 8 | buchanan\n",
      "Processing Record 39 of Set 8 | bereda\n",
      "Processing Record 40 of Set 8 | takaungu\n",
      "Processing Record 41 of Set 8 | havre-saint-pierre\n",
      "Processing Record 42 of Set 8 | saalfeld\n",
      "Processing Record 43 of Set 8 | bemidji\n",
      "Processing Record 44 of Set 8 | sicamous\n",
      "Processing Record 45 of Set 8 | nieuwpoort\n",
      "Processing Record 46 of Set 8 | gwanda\n",
      "Processing Record 47 of Set 8 | itarema\n",
      "Processing Record 48 of Set 8 | takoradi\n",
      "Processing Record 49 of Set 8 | lulea\n",
      "Processing Record 0 of Set 9 | abalak\n",
      "Processing Record 1 of Set 9 | powell river\n",
      "Processing Record 2 of Set 9 | saldanha\n",
      "Processing Record 3 of Set 9 | amol\n",
      "Processing Record 4 of Set 9 | zhob\n",
      "Processing Record 5 of Set 9 | laguna\n",
      "City not found. Skipping...\n",
      "Processing Record 6 of Set 9 | grafton\n",
      "Processing Record 7 of Set 9 | salima\n",
      "City not found. Skipping...\n",
      "Processing Record 8 of Set 9 | mwingi\n",
      "Processing Record 9 of Set 9 | along\n",
      "Processing Record 10 of Set 9 | shetpe\n",
      "Processing Record 11 of Set 9 | bilibino\n",
      "Processing Record 12 of Set 9 | bandipur\n",
      "Processing Record 13 of Set 9 | san cristobal\n",
      "Processing Record 14 of Set 9 | moose factory\n",
      "Processing Record 15 of Set 9 | mandalgovi\n",
      "Processing Record 16 of Set 9 | lebu\n",
      "Processing Record 17 of Set 9 | magrath\n",
      "Processing Record 18 of Set 9 | loikaw\n",
      "Processing Record 19 of Set 9 | sao desiderio\n",
      "Processing Record 20 of Set 9 | tautira\n",
      "Processing Record 21 of Set 9 | xuddur\n",
      "Processing Record 22 of Set 9 | rundu\n",
      "Processing Record 23 of Set 9 | yopal\n",
      "Processing Record 24 of Set 9 | morgan city\n",
      "Processing Record 25 of Set 9 | imbituva\n",
      "Processing Record 26 of Set 9 | baiyin\n",
      "Processing Record 27 of Set 9 | parabel\n",
      "City not found. Skipping...\n",
      "Processing Record 28 of Set 9 | vilhena\n",
      "Processing Record 29 of Set 9 | terney\n",
      "Processing Record 30 of Set 9 | dakar\n",
      "Processing Record 31 of Set 9 | santa rosa\n",
      "Processing Record 32 of Set 9 | caetite\n",
      "City not found. Skipping...\n",
      "City not found. Skipping...\n",
      "Processing Record 33 of Set 9 | launceston\n",
      "Processing Record 34 of Set 9 | north bend\n",
      "Processing Record 35 of Set 9 | constitucion\n",
      "Processing Record 36 of Set 9 | awjilah\n",
      "Processing Record 37 of Set 9 | luanda\n",
      "Processing Record 38 of Set 9 | carnarvon\n",
      "Processing Record 39 of Set 9 | staronizhestebliyevskaya\n",
      "Processing Record 40 of Set 9 | yenagoa\n",
      "Processing Record 41 of Set 9 | dongsheng\n",
      "Processing Record 42 of Set 9 | bayji\n",
      "Processing Record 43 of Set 9 | shipunovo\n",
      "Processing Record 44 of Set 9 | havoysund\n",
      "City not found. Skipping...\n",
      "Processing Record 45 of Set 9 | ahuimanu\n",
      "Processing Record 46 of Set 9 | kavieng\n",
      "Processing Record 47 of Set 9 | grande prairie\n",
      "City not found. Skipping...\n",
      "Processing Record 48 of Set 9 | pacific grove\n",
      "Processing Record 49 of Set 9 | makakilo city\n",
      "Processing Record 0 of Set 10 | neyshabur\n",
      "Processing Record 1 of Set 10 | belaya gora\n",
      "Processing Record 2 of Set 10 | safford\n",
      "Processing Record 3 of Set 10 | sao felix do xingu\n",
      "Processing Record 4 of Set 10 | vila\n",
      "City not found. Skipping...\n",
      "Processing Record 5 of Set 10 | kuching\n",
      "City not found. Skipping...\n",
      "Processing Record 6 of Set 10 | omsukchan\n",
      "Processing Record 7 of Set 10 | wairoa\n",
      "Processing Record 8 of Set 10 | anadyr\n",
      "Processing Record 9 of Set 10 | pangnirtung\n",
      "Processing Record 10 of Set 10 | hobyo\n",
      "Processing Record 11 of Set 10 | jiexiu\n",
      "Processing Record 12 of Set 10 | grand gaube\n",
      "Processing Record 13 of Set 10 | hua hin\n",
      "City not found. Skipping...\n",
      "Processing Record 14 of Set 10 | puerto penasco\n",
      "Processing Record 15 of Set 10 | maryville\n",
      "Processing Record 16 of Set 10 | riyadh\n",
      "City not found. Skipping...\n",
      "Processing Record 17 of Set 10 | diveyevo\n",
      "Processing Record 18 of Set 10 | plauen\n",
      "Processing Record 19 of Set 10 | kapit\n",
      "City not found. Skipping...\n",
      "Processing Record 20 of Set 10 | tandil\n",
      "Processing Record 21 of Set 10 | stettler\n",
      "Processing Record 22 of Set 10 | viedma\n",
      "Processing Record 23 of Set 10 | champerico\n",
      "City not found. Skipping...\n",
      "Processing Record 24 of Set 10 | kabalo\n",
      "Processing Record 25 of Set 10 | kindersley\n",
      "Processing Record 26 of Set 10 | pimenteiras\n",
      "Processing Record 27 of Set 10 | ballina\n",
      "Processing Record 28 of Set 10 | pasni\n",
      "Processing Record 29 of Set 10 | oranjemund\n",
      "Processing Record 30 of Set 10 | cutro\n",
      "Processing Record 31 of Set 10 | makubetsu\n",
      "Processing Record 32 of Set 10 | suntar\n",
      "Processing Record 33 of Set 10 | neiafu\n",
      "Processing Record 34 of Set 10 | inirida\n",
      "Processing Record 35 of Set 10 | qaqortoq\n",
      "Processing Record 36 of Set 10 | sokoni\n",
      "Processing Record 37 of Set 10 | tashtagol\n",
      "Processing Record 38 of Set 10 | pokhara\n",
      "Processing Record 39 of Set 10 | kiama\n",
      "Processing Record 40 of Set 10 | copiapo\n",
      "Processing Record 41 of Set 10 | calderitas\n",
      "Processing Record 42 of Set 10 | alofi\n",
      "Processing Record 43 of Set 10 | celestun\n",
      "Processing Record 44 of Set 10 | leh\n",
      "Processing Record 45 of Set 10 | safaga\n",
      "Processing Record 46 of Set 10 | sangar\n",
      "Processing Record 47 of Set 10 | hun\n",
      "City not found. Skipping...\n",
      "Processing Record 48 of Set 10 | abay\n",
      "Processing Record 49 of Set 10 | mount gambier\n",
      "Processing Record 0 of Set 11 | killybegs\n",
      "Processing Record 1 of Set 11 | bethanien\n",
      "Processing Record 2 of Set 11 | teguise\n",
      "Processing Record 3 of Set 11 | salalah\n",
      "Processing Record 4 of Set 11 | ishigaki\n",
      "Processing Record 5 of Set 11 | mizdah\n",
      "Processing Record 6 of Set 11 | kaduy\n",
      "Processing Record 7 of Set 11 | baykit\n",
      "Processing Record 8 of Set 11 | apollonia\n",
      "Processing Record 9 of Set 11 | camacha\n",
      "Processing Record 10 of Set 11 | kloulklubed\n",
      "Processing Record 11 of Set 11 | tondi\n",
      "Processing Record 12 of Set 11 | montgomery\n",
      "Processing Record 13 of Set 11 | dunedin\n",
      "Processing Record 14 of Set 11 | san policarpo\n",
      "Processing Record 15 of Set 11 | lavrentiya\n",
      "Processing Record 16 of Set 11 | cetraro\n",
      "Processing Record 17 of Set 11 | dosso\n",
      "Processing Record 18 of Set 11 | longford\n",
      "Processing Record 19 of Set 11 | mandan\n",
      "Processing Record 20 of Set 11 | stornoway\n",
      "Processing Record 21 of Set 11 | tongliao\n",
      "Processing Record 22 of Set 11 | rudnichnyy\n",
      "Processing Record 23 of Set 11 | beliator\n",
      "Processing Record 24 of Set 11 | khairpur nathan shah\n",
      "Processing Record 25 of Set 11 | nurota\n",
      "Processing Record 26 of Set 11 | kupang\n",
      "Processing Record 27 of Set 11 | burnie\n",
      "Processing Record 28 of Set 11 | puerto colombia\n",
      "Processing Record 29 of Set 11 | yerbogachen\n",
      "Processing Record 30 of Set 11 | usinsk\n",
      "Processing Record 31 of Set 11 | petnehaza\n",
      "Processing Record 32 of Set 11 | cabo san lucas\n",
      "City not found. Skipping...\n",
      "Processing Record 33 of Set 11 | ola\n",
      "Processing Record 34 of Set 11 | naantali\n",
      "Processing Record 35 of Set 11 | halifax\n",
      "Processing Record 36 of Set 11 | dawei\n",
      "Processing Record 37 of Set 11 | terrace\n",
      "Processing Record 38 of Set 11 | bestobe\n",
      "City not found. Skipping...\n",
      "Processing Record 39 of Set 11 | gillette\n",
      "Processing Record 40 of Set 11 | kargil\n",
      "Processing Record 41 of Set 11 | tazovskiy\n",
      "Processing Record 42 of Set 11 | mkushi\n",
      "Processing Record 43 of Set 11 | dunda\n",
      "Processing Record 44 of Set 11 | nalut\n",
      "Processing Record 45 of Set 11 | kars\n",
      "Processing Record 46 of Set 11 | arkul\n",
      "Processing Record 47 of Set 11 | kuna\n",
      "Processing Record 48 of Set 11 | biak\n",
      "Processing Record 49 of Set 11 | tahoua\n",
      "Processing Record 0 of Set 12 | nioro\n",
      "Processing Record 1 of Set 12 | sambava\n",
      "Processing Record 2 of Set 12 | port macquarie\n",
      "Processing Record 3 of Set 12 | sahuaripa\n",
      "Processing Record 4 of Set 12 | santa maria da vitoria\n"
     ]
    },
    {
     "name": "stdout",
     "output_type": "stream",
     "text": [
      "City not found. Skipping...\n",
      "Processing Record 5 of Set 12 | aswan\n",
      "Processing Record 6 of Set 12 | muli\n",
      "Processing Record 7 of Set 12 | waipawa\n",
      "Processing Record 8 of Set 12 | cocachacra\n",
      "Processing Record 9 of Set 12 | seymchan\n",
      "Processing Record 10 of Set 12 | bubaque\n",
      "Processing Record 11 of Set 12 | jamsa\n",
      "Processing Record 12 of Set 12 | manaure\n",
      "Processing Record 13 of Set 12 | paita\n",
      "Processing Record 14 of Set 12 | dan khun thot\n",
      "Processing Record 15 of Set 12 | kataysk\n",
      "Processing Record 16 of Set 12 | xinzhi\n",
      "Processing Record 17 of Set 12 | adwa\n",
      "Processing Record 18 of Set 12 | manor\n",
      "Processing Record 19 of Set 12 | college\n",
      "City not found. Skipping...\n",
      "Processing Record 20 of Set 12 | maltahohe\n",
      "Processing Record 21 of Set 12 | balkanabat\n",
      "Processing Record 22 of Set 12 | bassano\n",
      "Processing Record 23 of Set 12 | manokwari\n",
      "Processing Record 24 of Set 12 | hervey bay\n",
      "Processing Record 25 of Set 12 | bako\n",
      "Processing Record 26 of Set 12 | chateaubelair\n",
      "Processing Record 27 of Set 12 | arraias\n",
      "Processing Record 28 of Set 12 | fort saint john\n",
      "Processing Record 29 of Set 12 | tharad\n",
      "Processing Record 30 of Set 12 | wajir\n",
      "Processing Record 31 of Set 12 | sioux lookout\n",
      "Processing Record 32 of Set 12 | lata\n",
      "Processing Record 33 of Set 12 | sainte-adele\n",
      "------------------------------\n",
      "Data Retrieval Complete\n",
      "------------------------------\n"
     ]
    }
   ],
   "source": [
    "Selectcities =[]\n",
    "Latitude=[]\n",
    "Longitude=[]\n",
    "Max_Temp=[]\n",
    "SaveHumidity=[]\n",
    "Cloudiness=[]\n",
    "Wind_Speed=[]\n",
    "SaveCountry=[]\n",
    "SaveDate=[]\n",
    "# Save config information.\n",
    "url = \"http://api.openweathermap.org/data/2.5/weather?\"\n",
    "units = \"metric\"\n",
    "# Build partial query URL\n",
    "query_url = f\"{url}appid={weather_api_key}&units={units}&q=\"\n",
    "\n",
    "print(\"Beginning Data Retrieval\")\n",
    "print(\"--------------------------------\")\n",
    "\n",
    "#Initialize count for record and set \n",
    "counter = 0\n",
    "set_record = 1\n",
    "\n",
    "# Loop through the list of cities and perform a request for data on each\n",
    "for city in cities:\n",
    "    try:\n",
    "        response = requests.get(query_url + city.replace(\" \",\"&\")).json()\n",
    "        Latitude.append(response['coord']['lat'])\n",
    "        Longitude.append(response['coord']['lon'])\n",
    "        Max_Temp.append(response['main']['temp_max'])\n",
    "        SaveHumidity.append(response['main']['humidity'])\n",
    "        Cloudiness.append(response['clouds']['all'])\n",
    "        Wind_Speed.append(response['wind']['speed'])\n",
    "        SaveCountry.append(response['sys']['country'])\n",
    "        SaveDate.append(response['dt'])\n",
    "        Selectcities.append(city)\n",
    "        if counter > 48:\n",
    "            counter = 0\n",
    "            set_record += 1\n",
    "        else:\n",
    "            counter += 1\n",
    "        print(f\"Processing Record {counter} of Set {set_record} | {city}\")\n",
    "    except Exception:\n",
    "        print(\"City not found. Skipping...\")\n",
    "print(\"------------------------------\\nData Retrieval Complete\\n------------------------------\")"
   ]
  },
  {
   "cell_type": "markdown",
   "metadata": {},
   "source": [
    "### Convert Raw Data to DataFrame\n",
    "* Export the city data into a .csv.\n",
    "* Display the DataFrame"
   ]
  },
  {
   "cell_type": "code",
   "execution_count": 283,
   "metadata": {},
   "outputs": [
    {
     "data": {
      "text/html": [
       "<div>\n",
       "<style scoped>\n",
       "    .dataframe tbody tr th:only-of-type {\n",
       "        vertical-align: middle;\n",
       "    }\n",
       "\n",
       "    .dataframe tbody tr th {\n",
       "        vertical-align: top;\n",
       "    }\n",
       "\n",
       "    .dataframe thead th {\n",
       "        text-align: right;\n",
       "    }\n",
       "</style>\n",
       "<table border=\"1\" class=\"dataframe\">\n",
       "  <thead>\n",
       "    <tr style=\"text-align: right;\">\n",
       "      <th></th>\n",
       "      <th>City</th>\n",
       "      <th>Lat</th>\n",
       "      <th>Lng</th>\n",
       "      <th>Max Temp</th>\n",
       "      <th>Humidity</th>\n",
       "      <th>Cloudiness</th>\n",
       "      <th>Wind Speed</th>\n",
       "      <th>Country</th>\n",
       "      <th>Date</th>\n",
       "    </tr>\n",
       "  </thead>\n",
       "  <tbody>\n",
       "    <tr>\n",
       "      <th>0</th>\n",
       "      <td>ribeira grande</td>\n",
       "      <td>42.7461</td>\n",
       "      <td>-8.4439</td>\n",
       "      <td>17.25</td>\n",
       "      <td>94</td>\n",
       "      <td>75</td>\n",
       "      <td>1.54</td>\n",
       "      <td>ES</td>\n",
       "      <td>1627273915</td>\n",
       "    </tr>\n",
       "    <tr>\n",
       "      <th>1</th>\n",
       "      <td>mataura</td>\n",
       "      <td>-46.1927</td>\n",
       "      <td>168.8643</td>\n",
       "      <td>9.71</td>\n",
       "      <td>95</td>\n",
       "      <td>100</td>\n",
       "      <td>0.82</td>\n",
       "      <td>NZ</td>\n",
       "      <td>1627273916</td>\n",
       "    </tr>\n",
       "    <tr>\n",
       "      <th>2</th>\n",
       "      <td>soto la marina</td>\n",
       "      <td>-32.8107</td>\n",
       "      <td>-61.4026</td>\n",
       "      <td>10.62</td>\n",
       "      <td>69</td>\n",
       "      <td>0</td>\n",
       "      <td>3.98</td>\n",
       "      <td>AR</td>\n",
       "      <td>1627273916</td>\n",
       "    </tr>\n",
       "    <tr>\n",
       "      <th>3</th>\n",
       "      <td>san juan</td>\n",
       "      <td>13.3034</td>\n",
       "      <td>-4.8956</td>\n",
       "      <td>25.99</td>\n",
       "      <td>74</td>\n",
       "      <td>26</td>\n",
       "      <td>4.01</td>\n",
       "      <td>ML</td>\n",
       "      <td>1627273916</td>\n",
       "    </tr>\n",
       "    <tr>\n",
       "      <th>4</th>\n",
       "      <td>nyurba</td>\n",
       "      <td>63.2842</td>\n",
       "      <td>118.3319</td>\n",
       "      <td>31.67</td>\n",
       "      <td>29</td>\n",
       "      <td>2</td>\n",
       "      <td>3.37</td>\n",
       "      <td>RU</td>\n",
       "      <td>1627273917</td>\n",
       "    </tr>\n",
       "  </tbody>\n",
       "</table>\n",
       "</div>"
      ],
      "text/plain": [
       "             City      Lat       Lng  Max Temp  Humidity  Cloudiness  \\\n",
       "0  ribeira grande  42.7461   -8.4439     17.25        94          75   \n",
       "1         mataura -46.1927  168.8643      9.71        95         100   \n",
       "2  soto la marina -32.8107  -61.4026     10.62        69           0   \n",
       "3        san juan  13.3034   -4.8956     25.99        74          26   \n",
       "4          nyurba  63.2842  118.3319     31.67        29           2   \n",
       "\n",
       "   Wind Speed Country        Date  \n",
       "0        1.54      ES  1627273915  \n",
       "1        0.82      NZ  1627273916  \n",
       "2        3.98      AR  1627273916  \n",
       "3        4.01      ML  1627273916  \n",
       "4        3.37      RU  1627273917  "
      ]
     },
     "execution_count": 283,
     "metadata": {},
     "output_type": "execute_result"
    }
   ],
   "source": [
    "# Import cities file as DataFrame\n",
    "details = {\n",
    "    \"City\":Selectcities,\n",
    "    \"Lat\":Latitude,\n",
    "    \"Lng\":Longitude,\n",
    "    \"Max Temp\":Max_Temp,\n",
    "    \"Humidity\":SaveHumidity,\n",
    "    \"Cloudiness\":Cloudiness,\n",
    "    \"Wind Speed\":Wind_Speed,\n",
    "    \"Country\":SaveCountry,\n",
    "    \"Date\":SaveDate\n",
    "    }\n",
    "weather_df = pd.DataFrame(details)\n",
    "weather_df.head()"
   ]
  },
  {
   "cell_type": "code",
   "execution_count": 285,
   "metadata": {},
   "outputs": [],
   "source": [
    "weather_df.to_csv(\"../output_data/cities.csv\",index=False)"
   ]
  },
  {
   "cell_type": "code",
   "execution_count": 205,
   "metadata": {},
   "outputs": [
    {
     "data": {
      "text/plain": [
       "City          541\n",
       "Lat           541\n",
       "Lng           541\n",
       "Max Temp      541\n",
       "Humidity      541\n",
       "Cloudiness    541\n",
       "Wind Speed    541\n",
       "Country       541\n",
       "Date          541\n",
       "dtype: int64"
      ]
     },
     "execution_count": 205,
     "metadata": {},
     "output_type": "execute_result"
    }
   ],
   "source": [
    "weather_df.count()"
   ]
  },
  {
   "cell_type": "code",
   "execution_count": 211,
   "metadata": {},
   "outputs": [
    {
     "data": {
      "text/html": [
       "<div>\n",
       "<style scoped>\n",
       "    .dataframe tbody tr th:only-of-type {\n",
       "        vertical-align: middle;\n",
       "    }\n",
       "\n",
       "    .dataframe tbody tr th {\n",
       "        vertical-align: top;\n",
       "    }\n",
       "\n",
       "    .dataframe thead th {\n",
       "        text-align: right;\n",
       "    }\n",
       "</style>\n",
       "<table border=\"1\" class=\"dataframe\">\n",
       "  <thead>\n",
       "    <tr style=\"text-align: right;\">\n",
       "      <th></th>\n",
       "      <th>Lat</th>\n",
       "      <th>Lng</th>\n",
       "      <th>Max Temp</th>\n",
       "      <th>Humidity</th>\n",
       "      <th>Cloudiness</th>\n",
       "      <th>Wind Speed</th>\n",
       "      <th>Date</th>\n",
       "    </tr>\n",
       "  </thead>\n",
       "  <tbody>\n",
       "    <tr>\n",
       "      <th>count</th>\n",
       "      <td>541.000000</td>\n",
       "      <td>541.000000</td>\n",
       "      <td>541.000000</td>\n",
       "      <td>541.000000</td>\n",
       "      <td>541.000000</td>\n",
       "      <td>541.000000</td>\n",
       "      <td>5.410000e+02</td>\n",
       "    </tr>\n",
       "    <tr>\n",
       "      <th>mean</th>\n",
       "      <td>22.567724</td>\n",
       "      <td>22.235498</td>\n",
       "      <td>21.043641</td>\n",
       "      <td>71.510166</td>\n",
       "      <td>53.421442</td>\n",
       "      <td>3.321405</td>\n",
       "      <td>1.627266e+09</td>\n",
       "    </tr>\n",
       "    <tr>\n",
       "      <th>std</th>\n",
       "      <td>31.568727</td>\n",
       "      <td>86.200253</td>\n",
       "      <td>7.482030</td>\n",
       "      <td>20.284696</td>\n",
       "      <td>40.169269</td>\n",
       "      <td>2.354533</td>\n",
       "      <td>9.733599e+01</td>\n",
       "    </tr>\n",
       "    <tr>\n",
       "      <th>min</th>\n",
       "      <td>-54.800000</td>\n",
       "      <td>-175.200000</td>\n",
       "      <td>-1.030000</td>\n",
       "      <td>7.000000</td>\n",
       "      <td>0.000000</td>\n",
       "      <td>0.000000</td>\n",
       "      <td>1.627266e+09</td>\n",
       "    </tr>\n",
       "    <tr>\n",
       "      <th>25%</th>\n",
       "      <td>-2.924800</td>\n",
       "      <td>-46.050000</td>\n",
       "      <td>15.360000</td>\n",
       "      <td>61.000000</td>\n",
       "      <td>7.000000</td>\n",
       "      <td>1.550000</td>\n",
       "      <td>1.627266e+09</td>\n",
       "    </tr>\n",
       "    <tr>\n",
       "      <th>50%</th>\n",
       "      <td>26.592100</td>\n",
       "      <td>24.662200</td>\n",
       "      <td>22.090000</td>\n",
       "      <td>76.000000</td>\n",
       "      <td>57.000000</td>\n",
       "      <td>2.690000</td>\n",
       "      <td>1.627266e+09</td>\n",
       "    </tr>\n",
       "    <tr>\n",
       "      <th>75%</th>\n",
       "      <td>48.649900</td>\n",
       "      <td>93.040800</td>\n",
       "      <td>26.770000</td>\n",
       "      <td>87.000000</td>\n",
       "      <td>97.000000</td>\n",
       "      <td>4.680000</td>\n",
       "      <td>1.627266e+09</td>\n",
       "    </tr>\n",
       "    <tr>\n",
       "      <th>max</th>\n",
       "      <td>78.218600</td>\n",
       "      <td>179.316700</td>\n",
       "      <td>38.030000</td>\n",
       "      <td>100.000000</td>\n",
       "      <td>100.000000</td>\n",
       "      <td>11.250000</td>\n",
       "      <td>1.627267e+09</td>\n",
       "    </tr>\n",
       "  </tbody>\n",
       "</table>\n",
       "</div>"
      ],
      "text/plain": [
       "              Lat         Lng    Max Temp    Humidity  Cloudiness  Wind Speed  \\\n",
       "count  541.000000  541.000000  541.000000  541.000000  541.000000  541.000000   \n",
       "mean    22.567724   22.235498   21.043641   71.510166   53.421442    3.321405   \n",
       "std     31.568727   86.200253    7.482030   20.284696   40.169269    2.354533   \n",
       "min    -54.800000 -175.200000   -1.030000    7.000000    0.000000    0.000000   \n",
       "25%     -2.924800  -46.050000   15.360000   61.000000    7.000000    1.550000   \n",
       "50%     26.592100   24.662200   22.090000   76.000000   57.000000    2.690000   \n",
       "75%     48.649900   93.040800   26.770000   87.000000   97.000000    4.680000   \n",
       "max     78.218600  179.316700   38.030000  100.000000  100.000000   11.250000   \n",
       "\n",
       "               Date  \n",
       "count  5.410000e+02  \n",
       "mean   1.627266e+09  \n",
       "std    9.733599e+01  \n",
       "min    1.627266e+09  \n",
       "25%    1.627266e+09  \n",
       "50%    1.627266e+09  \n",
       "75%    1.627266e+09  \n",
       "max    1.627267e+09  "
      ]
     },
     "execution_count": 211,
     "metadata": {},
     "output_type": "execute_result"
    }
   ],
   "source": [
    "weather_df.describe()"
   ]
  },
  {
   "cell_type": "markdown",
   "metadata": {},
   "source": [
    "## Inspect the data and remove the cities where the humidity > 100%.\n",
    "----\n",
    "Skip this step if there are no cities that have humidity > 100%. "
   ]
  },
  {
   "cell_type": "markdown",
   "metadata": {},
   "source": [
    "## Plotting the Data\n",
    "* Use proper labeling of the plots using plot titles (including date of analysis) and axes labels.\n",
    "* Save the plotted figures as .pngs."
   ]
  },
  {
   "cell_type": "markdown",
   "metadata": {},
   "source": [
    "## Latitude vs. Temperature Plot"
   ]
  },
  {
   "cell_type": "code",
   "execution_count": 318,
   "metadata": {},
   "outputs": [
    {
     "data": {
      "image/png": "[encoded data removed]",
      "text/plain": [
       "<Figure size 432x288 with 1 Axes>"
      ]
     },
     "metadata": {
      "needs_background": "light"
     },
     "output_type": "display_data"
    }
   ],
   "source": [
    "plt.scatter(weather_df[\"Lat\"],weather_df[\"Max Temp\"],edgecolors=\"black\",facecolors=\"skyblue\")\n",
    "plt.title(\"City Latitude vs. Max Temperature (04/01/20)\")\n",
    "plt.xlabel(\"Latitude\")\n",
    "plt.ylabel(\"Max Temperature(F)\")\n",
    "plt.grid (b=True,which=\"major\",axis=\"both\",linestyle=\"-\",color=\"lightgrey\")\n",
    "plt.savefig(\"../output_data/Latitude vs. Temperature Plot.png\")\n",
    "plt.show()"
   ]
  },
  {
   "cell_type": "markdown",
   "metadata": {},
   "source": [
    "Maximum temperature increases as the latitude moves towards 0 degree and then decreases when latitude increases\n",
    "Temperature is inversely related to latitude."
   ]
  },
  {
   "cell_type": "markdown",
   "metadata": {},
   "source": [
    "## Latitude vs. Humidity Plot"
   ]
  },
  {
   "cell_type": "code",
   "execution_count": 301,
   "metadata": {},
   "outputs": [
    {
     "data": {
      "image/png": "[encoded data removed]",
      "text/plain": [
       "<Figure size 432x288 with 1 Axes>"
      ]
     },
     "metadata": {
      "needs_background": "light"
     },
     "output_type": "display_data"
    }
   ],
   "source": [
    "plt.scatter(weather_df[\"Lat\"],weather_df[\"Humidity\"],edgecolors=\"black\",facecolors=\"skyblue\")\n",
    "plt.title(\"City Latitude vs. Humidity (04/01/20)\")\n",
    "plt.xlabel(\"Latitude\")\n",
    "plt.ylabel(\"Humidity (%)\")\n",
    "plt.grid (b=True,which=\"major\",axis=\"both\",linestyle=\"-\",color=\"lightgrey\")\n",
    "plt.savefig(\"../output_data/Latitude vs. Humidity Plot.png\")\n",
    "plt.show()"
   ]
  },
  {
   "cell_type": "markdown",
   "metadata": {},
   "source": [
    "The Above graph shows that humidity can be high in northern and southern hemisphere both .\n",
    "There is no coorelation between latitude and humidity "
   ]
  },
  {
   "cell_type": "markdown",
   "metadata": {},
   "source": [
    "## Latitude vs. Cloudiness Plot"
   ]
  },
  {
   "cell_type": "code",
   "execution_count": 302,
   "metadata": {},
   "outputs": [
    {
     "data": {
      "image/png": "[encoded data removed]",
      "text/plain": [
       "<Figure size 432x288 with 1 Axes>"
      ]
     },
     "metadata": {
      "needs_background": "light"
     },
     "output_type": "display_data"
    }
   ],
   "source": [
    "plt.scatter(weather_df[\"Lat\"],weather_df[\"Cloudiness\"],edgecolors=\"black\",facecolors=\"skyblue\")\n",
    "plt.title(\"City Latitude vs. Cloudiness (04/01/20)\")\n",
    "plt.xlabel(\"Latitude\")\n",
    "plt.ylabel(\"Cloudiness (%)\")\n",
    "plt.grid (b=True,which=\"major\",axis=\"both\",linestyle=\"-\",color=\"lightgrey\")\n",
    "plt.savefig(\"../output_data/Latitude vs. Cloudiness Plot.png\")\n",
    "plt.show()"
   ]
  },
  {
   "cell_type": "markdown",
   "metadata": {},
   "source": [
    "Cloudiness is more in northern hemisphere than southern hemisphere as per above graph"
   ]
  },
  {
   "cell_type": "markdown",
   "metadata": {},
   "source": [
    "## Latitude vs. Wind Speed Plot"
   ]
  },
  {
   "cell_type": "code",
   "execution_count": 303,
   "metadata": {},
   "outputs": [
    {
     "data": {
      "image/png": "[encoded data removed]",
      "text/plain": [
       "<Figure size 432x288 with 1 Axes>"
      ]
     },
     "metadata": {
      "needs_background": "light"
     },
     "output_type": "display_data"
    }
   ],
   "source": [
    "plt.scatter(weather_df[\"Lat\"],weather_df[\"Wind Speed\"],edgecolors=\"black\",facecolors=\"skyblue\")\n",
    "plt.title(\"City Latitude vs. Wind Speed (04/01/20)\")\n",
    "plt.xlabel(\"Latitude\")\n",
    "plt.ylabel(\"Wind Speed (mph)\")\n",
    "plt.grid (b=True,which=\"major\",axis=\"both\",linestyle=\"-\",color=\"lightgrey\")\n",
    "plt.savefig(\"../output_data/Latitude vs. Wind Speed Plot.png\")\n",
    "plt.show()"
   ]
  },
  {
   "cell_type": "markdown",
   "metadata": {},
   "source": [
    "Windspeed rate is more in northern hemisphere than southen hemisphere "
   ]
  },
  {
   "cell_type": "code",
   "execution_count": 238,
   "metadata": {},
   "outputs": [
    {
     "data": {
      "text/html": [
       "<div>\n",
       "<style scoped>\n",
       "    .dataframe tbody tr th:only-of-type {\n",
       "        vertical-align: middle;\n",
       "    }\n",
       "\n",
       "    .dataframe tbody tr th {\n",
       "        vertical-align: top;\n",
       "    }\n",
       "\n",
       "    .dataframe thead th {\n",
       "        text-align: right;\n",
       "    }\n",
       "</style>\n",
       "<table border=\"1\" class=\"dataframe\">\n",
       "  <thead>\n",
       "    <tr style=\"text-align: right;\">\n",
       "      <th></th>\n",
       "      <th>City</th>\n",
       "      <th>Lat</th>\n",
       "      <th>Lng</th>\n",
       "      <th>Max Temp</th>\n",
       "      <th>Humidity</th>\n",
       "      <th>Cloudiness</th>\n",
       "      <th>Wind Speed</th>\n",
       "      <th>Country</th>\n",
       "      <th>Date</th>\n",
       "    </tr>\n",
       "  </thead>\n",
       "  <tbody>\n",
       "    <tr>\n",
       "      <th>0</th>\n",
       "      <td>ayan</td>\n",
       "      <td>56.4500</td>\n",
       "      <td>138.1667</td>\n",
       "      <td>18.48</td>\n",
       "      <td>78</td>\n",
       "      <td>40</td>\n",
       "      <td>2.68</td>\n",
       "      <td>RU</td>\n",
       "      <td>1627266135</td>\n",
       "    </tr>\n",
       "    <tr>\n",
       "      <th>1</th>\n",
       "      <td>punta arenas</td>\n",
       "      <td>8.9897</td>\n",
       "      <td>125.3400</td>\n",
       "      <td>31.61</td>\n",
       "      <td>56</td>\n",
       "      <td>93</td>\n",
       "      <td>0.56</td>\n",
       "      <td>PH</td>\n",
       "      <td>1627266135</td>\n",
       "    </tr>\n",
       "    <tr>\n",
       "      <th>7</th>\n",
       "      <td>qaanaaq</td>\n",
       "      <td>77.4840</td>\n",
       "      <td>-69.3632</td>\n",
       "      <td>3.84</td>\n",
       "      <td>69</td>\n",
       "      <td>100</td>\n",
       "      <td>0.61</td>\n",
       "      <td>GL</td>\n",
       "      <td>1627266137</td>\n",
       "    </tr>\n",
       "    <tr>\n",
       "      <th>8</th>\n",
       "      <td>beringovskiy</td>\n",
       "      <td>63.0500</td>\n",
       "      <td>179.3167</td>\n",
       "      <td>10.05</td>\n",
       "      <td>92</td>\n",
       "      <td>99</td>\n",
       "      <td>2.78</td>\n",
       "      <td>RU</td>\n",
       "      <td>1627266138</td>\n",
       "    </tr>\n",
       "    <tr>\n",
       "      <th>9</th>\n",
       "      <td>petatlan</td>\n",
       "      <td>17.5167</td>\n",
       "      <td>-101.2667</td>\n",
       "      <td>30.89</td>\n",
       "      <td>91</td>\n",
       "      <td>80</td>\n",
       "      <td>1.19</td>\n",
       "      <td>MX</td>\n",
       "      <td>1627266138</td>\n",
       "    </tr>\n",
       "    <tr>\n",
       "      <th>...</th>\n",
       "      <td>...</td>\n",
       "      <td>...</td>\n",
       "      <td>...</td>\n",
       "      <td>...</td>\n",
       "      <td>...</td>\n",
       "      <td>...</td>\n",
       "      <td>...</td>\n",
       "      <td>...</td>\n",
       "      <td>...</td>\n",
       "    </tr>\n",
       "    <tr>\n",
       "      <th>536</th>\n",
       "      <td>fairbanks</td>\n",
       "      <td>64.8378</td>\n",
       "      <td>-147.7164</td>\n",
       "      <td>21.19</td>\n",
       "      <td>54</td>\n",
       "      <td>90</td>\n",
       "      <td>3.60</td>\n",
       "      <td>US</td>\n",
       "      <td>1627266196</td>\n",
       "    </tr>\n",
       "    <tr>\n",
       "      <th>537</th>\n",
       "      <td>kuytun</td>\n",
       "      <td>54.3419</td>\n",
       "      <td>101.5036</td>\n",
       "      <td>22.47</td>\n",
       "      <td>51</td>\n",
       "      <td>7</td>\n",
       "      <td>3.43</td>\n",
       "      <td>RU</td>\n",
       "      <td>1627266328</td>\n",
       "    </tr>\n",
       "    <tr>\n",
       "      <th>538</th>\n",
       "      <td>boden</td>\n",
       "      <td>65.8252</td>\n",
       "      <td>21.6886</td>\n",
       "      <td>14.00</td>\n",
       "      <td>88</td>\n",
       "      <td>34</td>\n",
       "      <td>0.49</td>\n",
       "      <td>SE</td>\n",
       "      <td>1627266328</td>\n",
       "    </tr>\n",
       "    <tr>\n",
       "      <th>539</th>\n",
       "      <td>son la</td>\n",
       "      <td>51.5114</td>\n",
       "      <td>5.4928</td>\n",
       "      <td>17.90</td>\n",
       "      <td>92</td>\n",
       "      <td>40</td>\n",
       "      <td>1.54</td>\n",
       "      <td>NL</td>\n",
       "      <td>1627266328</td>\n",
       "    </tr>\n",
       "    <tr>\n",
       "      <th>540</th>\n",
       "      <td>juneau</td>\n",
       "      <td>58.3019</td>\n",
       "      <td>-134.4197</td>\n",
       "      <td>16.03</td>\n",
       "      <td>85</td>\n",
       "      <td>75</td>\n",
       "      <td>2.57</td>\n",
       "      <td>US</td>\n",
       "      <td>1627266238</td>\n",
       "    </tr>\n",
       "  </tbody>\n",
       "</table>\n",
       "<p>393 rows × 9 columns</p>\n",
       "</div>"
      ],
      "text/plain": [
       "             City      Lat       Lng  Max Temp  Humidity  Cloudiness  \\\n",
       "0            ayan  56.4500  138.1667     18.48        78          40   \n",
       "1    punta arenas   8.9897  125.3400     31.61        56          93   \n",
       "7         qaanaaq  77.4840  -69.3632      3.84        69         100   \n",
       "8    beringovskiy  63.0500  179.3167     10.05        92          99   \n",
       "9        petatlan  17.5167 -101.2667     30.89        91          80   \n",
       "..            ...      ...       ...       ...       ...         ...   \n",
       "536     fairbanks  64.8378 -147.7164     21.19        54          90   \n",
       "537        kuytun  54.3419  101.5036     22.47        51           7   \n",
       "538         boden  65.8252   21.6886     14.00        88          34   \n",
       "539        son la  51.5114    5.4928     17.90        92          40   \n",
       "540        juneau  58.3019 -134.4197     16.03        85          75   \n",
       "\n",
       "     Wind Speed Country        Date  \n",
       "0          2.68      RU  1627266135  \n",
       "1          0.56      PH  1627266135  \n",
       "7          0.61      GL  1627266137  \n",
       "8          2.78      RU  1627266138  \n",
       "9          1.19      MX  1627266138  \n",
       "..          ...     ...         ...  \n",
       "536        3.60      US  1627266196  \n",
       "537        3.43      RU  1627266328  \n",
       "538        0.49      SE  1627266328  \n",
       "539        1.54      NL  1627266328  \n",
       "540        2.57      US  1627266238  \n",
       "\n",
       "[393 rows x 9 columns]"
      ]
     },
     "execution_count": 238,
     "metadata": {},
     "output_type": "execute_result"
    }
   ],
   "source": [
    "Northern_Hemisphere = weather_df.loc[(weather_df[\"Lat\"] >= 0), :]\n",
    "Northern_Hemisphere "
   ]
  },
  {
   "cell_type": "code",
   "execution_count": 239,
   "metadata": {},
   "outputs": [
    {
     "data": {
      "text/html": [
       "<div>\n",
       "<style scoped>\n",
       "    .dataframe tbody tr th:only-of-type {\n",
       "        vertical-align: middle;\n",
       "    }\n",
       "\n",
       "    .dataframe tbody tr th {\n",
       "        vertical-align: top;\n",
       "    }\n",
       "\n",
       "    .dataframe thead th {\n",
       "        text-align: right;\n",
       "    }\n",
       "</style>\n",
       "<table border=\"1\" class=\"dataframe\">\n",
       "  <thead>\n",
       "    <tr style=\"text-align: right;\">\n",
       "      <th></th>\n",
       "      <th>City</th>\n",
       "      <th>Lat</th>\n",
       "      <th>Lng</th>\n",
       "      <th>Max Temp</th>\n",
       "      <th>Humidity</th>\n",
       "      <th>Cloudiness</th>\n",
       "      <th>Wind Speed</th>\n",
       "      <th>Country</th>\n",
       "      <th>Date</th>\n",
       "    </tr>\n",
       "  </thead>\n",
       "  <tbody>\n",
       "    <tr>\n",
       "      <th>2</th>\n",
       "      <td>touros</td>\n",
       "      <td>-5.1989</td>\n",
       "      <td>-35.4608</td>\n",
       "      <td>23.50</td>\n",
       "      <td>89</td>\n",
       "      <td>0</td>\n",
       "      <td>4.37</td>\n",
       "      <td>BR</td>\n",
       "      <td>1627266136</td>\n",
       "    </tr>\n",
       "    <tr>\n",
       "      <th>3</th>\n",
       "      <td>rikitea</td>\n",
       "      <td>-23.1203</td>\n",
       "      <td>-134.9692</td>\n",
       "      <td>21.95</td>\n",
       "      <td>73</td>\n",
       "      <td>22</td>\n",
       "      <td>2.69</td>\n",
       "      <td>PF</td>\n",
       "      <td>1627265879</td>\n",
       "    </tr>\n",
       "    <tr>\n",
       "      <th>4</th>\n",
       "      <td>soyo</td>\n",
       "      <td>-6.1349</td>\n",
       "      <td>12.3689</td>\n",
       "      <td>21.52</td>\n",
       "      <td>94</td>\n",
       "      <td>19</td>\n",
       "      <td>2.27</td>\n",
       "      <td>AO</td>\n",
       "      <td>1627266136</td>\n",
       "    </tr>\n",
       "    <tr>\n",
       "      <th>5</th>\n",
       "      <td>hobart</td>\n",
       "      <td>-42.8794</td>\n",
       "      <td>147.3294</td>\n",
       "      <td>12.92</td>\n",
       "      <td>66</td>\n",
       "      <td>75</td>\n",
       "      <td>0.89</td>\n",
       "      <td>AU</td>\n",
       "      <td>1627266034</td>\n",
       "    </tr>\n",
       "    <tr>\n",
       "      <th>6</th>\n",
       "      <td>bukene</td>\n",
       "      <td>-4.2333</td>\n",
       "      <td>32.8833</td>\n",
       "      <td>13.74</td>\n",
       "      <td>61</td>\n",
       "      <td>14</td>\n",
       "      <td>2.98</td>\n",
       "      <td>TZ</td>\n",
       "      <td>1627266137</td>\n",
       "    </tr>\n",
       "    <tr>\n",
       "      <th>...</th>\n",
       "      <td>...</td>\n",
       "      <td>...</td>\n",
       "      <td>...</td>\n",
       "      <td>...</td>\n",
       "      <td>...</td>\n",
       "      <td>...</td>\n",
       "      <td>...</td>\n",
       "      <td>...</td>\n",
       "      <td>...</td>\n",
       "    </tr>\n",
       "    <tr>\n",
       "      <th>511</th>\n",
       "      <td>maumere</td>\n",
       "      <td>-8.6199</td>\n",
       "      <td>122.2111</td>\n",
       "      <td>27.66</td>\n",
       "      <td>58</td>\n",
       "      <td>44</td>\n",
       "      <td>1.35</td>\n",
       "      <td>ID</td>\n",
       "      <td>1627266319</td>\n",
       "    </tr>\n",
       "    <tr>\n",
       "      <th>517</th>\n",
       "      <td>beira</td>\n",
       "      <td>-19.8436</td>\n",
       "      <td>34.8389</td>\n",
       "      <td>17.47</td>\n",
       "      <td>81</td>\n",
       "      <td>42</td>\n",
       "      <td>6.65</td>\n",
       "      <td>MZ</td>\n",
       "      <td>1627266286</td>\n",
       "    </tr>\n",
       "    <tr>\n",
       "      <th>521</th>\n",
       "      <td>pemba</td>\n",
       "      <td>-12.9740</td>\n",
       "      <td>40.5178</td>\n",
       "      <td>19.39</td>\n",
       "      <td>77</td>\n",
       "      <td>20</td>\n",
       "      <td>3.09</td>\n",
       "      <td>MZ</td>\n",
       "      <td>1627266322</td>\n",
       "    </tr>\n",
       "    <tr>\n",
       "      <th>522</th>\n",
       "      <td>issenye</td>\n",
       "      <td>-2.0000</td>\n",
       "      <td>34.3333</td>\n",
       "      <td>16.60</td>\n",
       "      <td>56</td>\n",
       "      <td>4</td>\n",
       "      <td>1.77</td>\n",
       "      <td>TZ</td>\n",
       "      <td>1627266323</td>\n",
       "    </tr>\n",
       "    <tr>\n",
       "      <th>524</th>\n",
       "      <td>fayaoue</td>\n",
       "      <td>-20.6500</td>\n",
       "      <td>166.5333</td>\n",
       "      <td>23.06</td>\n",
       "      <td>74</td>\n",
       "      <td>40</td>\n",
       "      <td>2.62</td>\n",
       "      <td>NC</td>\n",
       "      <td>1627266185</td>\n",
       "    </tr>\n",
       "  </tbody>\n",
       "</table>\n",
       "<p>148 rows × 9 columns</p>\n",
       "</div>"
      ],
      "text/plain": [
       "        City      Lat       Lng  Max Temp  Humidity  Cloudiness  Wind Speed  \\\n",
       "2     touros  -5.1989  -35.4608     23.50        89           0        4.37   \n",
       "3    rikitea -23.1203 -134.9692     21.95        73          22        2.69   \n",
       "4       soyo  -6.1349   12.3689     21.52        94          19        2.27   \n",
       "5     hobart -42.8794  147.3294     12.92        66          75        0.89   \n",
       "6     bukene  -4.2333   32.8833     13.74        61          14        2.98   \n",
       "..       ...      ...       ...       ...       ...         ...         ...   \n",
       "511  maumere  -8.6199  122.2111     27.66        58          44        1.35   \n",
       "517    beira -19.8436   34.8389     17.47        81          42        6.65   \n",
       "521    pemba -12.9740   40.5178     19.39        77          20        3.09   \n",
       "522  issenye  -2.0000   34.3333     16.60        56           4        1.77   \n",
       "524  fayaoue -20.6500  166.5333     23.06        74          40        2.62   \n",
       "\n",
       "    Country        Date  \n",
       "2        BR  1627266136  \n",
       "3        PF  1627265879  \n",
       "4        AO  1627266136  \n",
       "5        AU  1627266034  \n",
       "6        TZ  1627266137  \n",
       "..      ...         ...  \n",
       "511      ID  1627266319  \n",
       "517      MZ  1627266286  \n",
       "521      MZ  1627266322  \n",
       "522      TZ  1627266323  \n",
       "524      NC  1627266185  \n",
       "\n",
       "[148 rows x 9 columns]"
      ]
     },
     "execution_count": 239,
     "metadata": {},
     "output_type": "execute_result"
    }
   ],
   "source": [
    "southern_Hemisphere = weather_df.loc[(weather_df[\"Lat\"] < 0), :]\n",
    "southern_Hemisphere "
   ]
  },
  {
   "cell_type": "markdown",
   "metadata": {},
   "source": [
    "## Linear Regression"
   ]
  },
  {
   "cell_type": "code",
   "execution_count": 304,
   "metadata": {},
   "outputs": [
    {
     "name": "stdout",
     "output_type": "stream",
     "text": [
      "The r-squared is: 0.44689076960484275\n"
     ]
    },
    {
     "data": {
      "image/png": "[encoded data removed]",
      "text/plain": [
       "<Figure size 432x288 with 1 Axes>"
      ]
     },
     "metadata": {
      "needs_background": "light"
     },
     "output_type": "display_data"
    }
   ],
   "source": [
    "x_values = Northern_Hemisphere['Lat']\n",
    "y_values = Northern_Hemisphere['Max Temp']\n",
    "(slope, intercept, rvalue, pvalue, stderr) = linregress(x_values, y_values)\n",
    "regress_values = x_values * slope + intercept\n",
    "line_eq = \"y = \" + str(round(slope,2)) + \"x + \" + str(round(intercept,2))\n",
    "plt.scatter(x_values,y_values)\n",
    "plt.plot(x_values,regress_values,\"r-\")\n",
    "plt.annotate(line_eq,(6,10),fontsize=15,color=\"red\")\n",
    "plt.xlabel('Latitude')\n",
    "plt.ylabel('Max Temp')\n",
    "print(f\"The r-squared is: {rvalue**2}\")\n",
    "plt.savefig(\"../output_data/Northern Hemisphere - Max Temp vs. Latitude Linear Regression.png\")\n",
    "plt.show()"
   ]
  },
  {
   "cell_type": "markdown",
   "metadata": {},
   "source": [
    "The above graph shows negative correlation between latitude and Max Temp\n",
    "Graph depicts that when latitude is high , Max temp tends to decrease"
   ]
  },
  {
   "cell_type": "markdown",
   "metadata": {},
   "source": [
    "####  Northern Hemisphere - Max Temp vs. Latitude Linear Regression"
   ]
  },
  {
   "cell_type": "code",
   "execution_count": 305,
   "metadata": {},
   "outputs": [
    {
     "name": "stdout",
     "output_type": "stream",
     "text": [
      "The r-squared is: 0.4774016828023254\n"
     ]
    },
    {
     "data": {
      "image/png": "[encoded data removed]",
      "text/plain": [
       "<Figure size 432x288 with 1 Axes>"
      ]
     },
     "metadata": {
      "needs_background": "light"
     },
     "output_type": "display_data"
    }
   ],
   "source": [
    "x_values = southern_Hemisphere['Lat']\n",
    "y_values = southern_Hemisphere['Max Temp']\n",
    "(slope, intercept, rvalue, pvalue, stderr) = linregress(x_values, y_values)\n",
    "regress_values = x_values * slope + intercept\n",
    "line_eq = \"y = \" + str(round(slope,2)) + \"x + \" + str(round(intercept,2))\n",
    "plt.scatter(x_values,y_values)\n",
    "plt.plot(x_values,regress_values,\"r-\")\n",
    "plt.annotate(line_eq,(6,10),fontsize=15,color=\"red\")\n",
    "plt.xlabel('Latitude')\n",
    "plt.ylabel('Max Temp')\n",
    "print(f\"The r-squared is: {rvalue**2}\")\n",
    "plt.savefig(\"../output_data/Southern Hemisphere - Max Temp vs. Latitude Linear Regression.png\")\n",
    "plt.show()"
   ]
  },
  {
   "cell_type": "markdown",
   "metadata": {},
   "source": [
    "The above graph shows that there is positive coorelation between latitude and Max Temp\n",
    "It depicts that when latitude is closer to 0 then Max Temp increases"
   ]
  },
  {
   "cell_type": "markdown",
   "metadata": {},
   "source": [
    "####  Southern Hemisphere - Max Temp vs. Latitude Linear Regression"
   ]
  },
  {
   "cell_type": "code",
   "execution_count": 320,
   "metadata": {},
   "outputs": [
    {
     "name": "stdout",
     "output_type": "stream",
     "text": [
      "The r-squared is: 0.0013571029469467313\n"
     ]
    },
    {
     "data": {
      "image/png": "[encoded data removed]",
      "text/plain": [
       "<Figure size 432x288 with 1 Axes>"
      ]
     },
     "metadata": {
      "needs_background": "light"
     },
     "output_type": "display_data"
    }
   ],
   "source": [
    "x_values = Northern_Hemisphere['Lat']\n",
    "y_values = Northern_Hemisphere['Humidity']\n",
    "(slope, intercept, rvalue, pvalue, stderr) = linregress(x_values, y_values)\n",
    "regress_values = x_values * slope + intercept\n",
    "line_eq = \"y = \" + str(round(slope,2)) + \"x + \" + str(round(intercept,2))\n",
    "plt.scatter(x_values,y_values)\n",
    "plt.plot(x_values,regress_values,\"r-\")\n",
    "plt.annotate(line_eq,(6,10),fontsize=15,color=\"red\")\n",
    "plt.xlabel('Latitude')\n",
    "plt.ylabel('Humidity')\n",
    "print(f\"The r-squared is: {rvalue**2}\")\n",
    "plt.savefig(\"../output_data/Northern Hemisphere - Humidity (%) vs. Latitude Linear Regression.png\")\n",
    "plt.show()"
   ]
  },
  {
   "cell_type": "markdown",
   "metadata": {},
   "source": [
    "The above graph shows negative correlation between latitude and Humidity\n",
    "Graph depicts that when latitude is high , Max temp tends to decrease"
   ]
  },
  {
   "cell_type": "markdown",
   "metadata": {},
   "source": [
    "####  Northern Hemisphere - Humidity (%) vs. Latitude Linear Regression"
   ]
  },
  {
   "cell_type": "code",
   "execution_count": 307,
   "metadata": {},
   "outputs": [
    {
     "name": "stdout",
     "output_type": "stream",
     "text": [
      "The r-squared is: 0.012726633774397379\n"
     ]
    },
    {
     "data": {
      "image/png": "[encoded data removed]",
      "text/plain": [
       "<Figure size 432x288 with 1 Axes>"
      ]
     },
     "metadata": {
      "needs_background": "light"
     },
     "output_type": "display_data"
    }
   ],
   "source": [
    "x_values = southern_Hemisphere['Lat']\n",
    "y_values = southern_Hemisphere['Humidity']\n",
    "(slope, intercept, rvalue, pvalue, stderr) = linregress(x_values, y_values)\n",
    "regress_values = x_values * slope + intercept\n",
    "line_eq = \"y = \" + str(round(slope,2)) + \"x + \" + str(round(intercept,2))\n",
    "plt.scatter(x_values,y_values)\n",
    "plt.plot(x_values,regress_values,\"r-\")\n",
    "plt.annotate(line_eq,(6,10),fontsize=15,color=\"red\")\n",
    "plt.xlabel('Latitude')\n",
    "plt.ylabel('Humidity')\n",
    "print(f\"The r-squared is: {rvalue**2}\")\n",
    "plt.savefig(\"../output_data/Southern Hemisphere - Humidity (%) vs. Latitude Linear Regression.png\")\n",
    "plt.show()"
   ]
  },
  {
   "cell_type": "markdown",
   "metadata": {},
   "source": [
    "There is no correlation between latitiude and humidity "
   ]
  },
  {
   "cell_type": "markdown",
   "metadata": {},
   "source": [
    "####  Southern Hemisphere - Humidity (%) vs. Latitude Linear Regression"
   ]
  },
  {
   "cell_type": "code",
   "execution_count": 312,
   "metadata": {},
   "outputs": [
    {
     "name": "stdout",
     "output_type": "stream",
     "text": [
      "The r-squared is: 0.003480771045699593\n"
     ]
    },
    {
     "data": {
      "image/png": "[encoded data removed]",
      "text/plain": [
       "<Figure size 432x288 with 1 Axes>"
      ]
     },
     "metadata": {
      "needs_background": "light"
     },
     "output_type": "display_data"
    }
   ],
   "source": [
    "x_values = Northern_Hemisphere['Lat']\n",
    "y_values = Northern_Hemisphere['Cloudiness']\n",
    "(slope, intercept, rvalue, pvalue, stderr) = linregress(x_values, y_values)\n",
    "regress_values = x_values * slope + intercept\n",
    "line_eq = \"y = \" + str(round(slope,2)) + \"x + \" + str(round(intercept,2))\n",
    "plt.scatter(x_values,y_values)\n",
    "plt.plot(x_values,regress_values,\"r-\")\n",
    "plt.annotate(line_eq,(6,10),fontsize=15,color=\"red\")\n",
    "plt.xlabel('Latitude')\n",
    "plt.ylabel('Cloudiness')\n",
    "print(f\"The r-squared is: {rvalue**2}\")\n",
    "plt.savefig(\"../output_data/Northern Hemisphere - Cloudiness (%) vs. Latitude Linear Regression.png\")\n",
    "plt.show()"
   ]
  },
  {
   "cell_type": "markdown",
   "metadata": {},
   "source": [
    "Graph depicts there is no coorelation between latitude and cloudiness\n",
    "Latitude increases and cloudiness tends to increase and decrease both "
   ]
  },
  {
   "cell_type": "markdown",
   "metadata": {},
   "source": [
    "####  Northern Hemisphere - Cloudiness (%) vs. Latitude Linear Regression"
   ]
  },
  {
   "cell_type": "code",
   "execution_count": 314,
   "metadata": {},
   "outputs": [
    {
     "name": "stdout",
     "output_type": "stream",
     "text": [
      "The r-squared is: 0.05196715520459824\n"
     ]
    },
    {
     "data": {
      "image/png": "[encoded data removed]",
      "text/plain": [
       "<Figure size 432x288 with 1 Axes>"
      ]
     },
     "metadata": {
      "needs_background": "light"
     },
     "output_type": "display_data"
    }
   ],
   "source": [
    "x_values = southern_Hemisphere['Lat']\n",
    "y_values = southern_Hemisphere['Cloudiness']\n",
    "(slope, intercept, rvalue, pvalue, stderr) = linregress(x_values, y_values)\n",
    "regress_values = x_values * slope + intercept\n",
    "line_eq = \"y = \" + str(round(slope,2)) + \"x + \" + str(round(intercept,2))\n",
    "plt.scatter(x_values,y_values)\n",
    "plt.plot(x_values,regress_values,\"r-\")\n",
    "plt.annotate(line_eq,(6,10),fontsize=15,color=\"red\")\n",
    "plt.xlabel('Latitude')\n",
    "plt.ylabel('Cloudiness')\n",
    "print(f\"The r-squared is: {rvalue**2}\")\n",
    "plt.savefig(\"../output_data/Southern Hemisphere - Cloudiness (%) vs. Latitude Linear Regression.png\")\n",
    "plt.show()"
   ]
  },
  {
   "cell_type": "markdown",
   "metadata": {},
   "source": [
    "Graph depicts there is no coorelation between latitude and cloudiness in southern hemisphere"
   ]
  },
  {
   "cell_type": "markdown",
   "metadata": {},
   "source": [
    "####  Southern Hemisphere - Cloudiness (%) vs. Latitude Linear Regression"
   ]
  },
  {
   "cell_type": "code",
   "execution_count": 315,
   "metadata": {},
   "outputs": [
    {
     "name": "stdout",
     "output_type": "stream",
     "text": [
      "The r-squared is: 0.005030674149568022\n"
     ]
    },
    {
     "data": {
      "image/png": "[encoded data removed]",
      "text/plain": [
       "<Figure size 432x288 with 1 Axes>"
      ]
     },
     "metadata": {
      "needs_background": "light"
     },
     "output_type": "display_data"
    }
   ],
   "source": [
    "x_values = Northern_Hemisphere['Lat']\n",
    "y_values = Northern_Hemisphere['Wind Speed']\n",
    "(slope, intercept, rvalue, pvalue, stderr) = linregress(x_values, y_values)\n",
    "regress_values = x_values * slope + intercept\n",
    "line_eq = \"y = \" + str(round(slope,2)) + \"x + \" + str(round(intercept,2))\n",
    "plt.scatter(x_values,y_values)\n",
    "plt.plot(x_values,regress_values,\"r-\")\n",
    "plt.annotate(line_eq,(6,10),fontsize=15,color=\"red\")\n",
    "plt.xlabel('Latitude')\n",
    "plt.ylabel('Wind Speed')\n",
    "print(f\"The r-squared is: {rvalue**2}\")\n",
    "plt.savefig(\"../output_data/Northern Hemisphere - Wind Speed (mph) vs. Latitude Linear Regression.png\")\n",
    "plt.show()"
   ]
  },
  {
   "cell_type": "markdown",
   "metadata": {},
   "source": [
    "Graph depicts there is no coorelation between latitude and cloudiness in northern hemisphere"
   ]
  },
  {
   "cell_type": "markdown",
   "metadata": {},
   "source": [
    "####  Northern Hemisphere - Wind Speed (mph) vs. Latitude Linear Regression"
   ]
  },
  {
   "cell_type": "code",
   "execution_count": 317,
   "metadata": {},
   "outputs": [
    {
     "name": "stdout",
     "output_type": "stream",
     "text": [
      "The r-squared is: 0.030419182816365097\n"
     ]
    },
    {
     "data": {
      "image/png": "[encoded data removed]",
      "text/plain": [
       "<Figure size 432x288 with 1 Axes>"
      ]
     },
     "metadata": {
      "needs_background": "light"
     },
     "output_type": "display_data"
    }
   ],
   "source": [
    "x_values = southern_Hemisphere['Lat']\n",
    "y_values = southern_Hemisphere['Wind Speed']\n",
    "(slope, intercept, rvalue, pvalue, stderr) = linregress(x_values, y_values)\n",
    "regress_values = x_values * slope + intercept\n",
    "line_eq = \"y = \" + str(round(slope,2)) + \"x + \" + str(round(intercept,2))\n",
    "plt.scatter(x_values,y_values)\n",
    "plt.plot(x_values,regress_values,\"r-\")\n",
    "plt.annotate(line_eq,(6,10),fontsize=15,color=\"red\")\n",
    "plt.xlabel('Latitude')\n",
    "plt.ylabel('Wind Speed')\n",
    "print(f\"The r-squared is: {rvalue**2}\")\n",
    "plt.savefig(\"../output_data/Southern Hemisphere - Wind Speed (mph) vs. Latitude Linear Regression.png\")\n",
    "plt.show()"
   ]
  },
  {
   "cell_type": "markdown",
   "metadata": {},
   "source": [
    "####  Southern Hemisphere - Wind Speed (mph) vs. Latitude Linear Regression"
   ]
  },
  {
   "cell_type": "markdown",
   "metadata": {},
   "source": [
    "Graph depicts there is no coorelation between latitude and cloudiness in southern hemisphere"
   ]
  }
 ],
 "metadata": {
  "anaconda-cloud": {},
  "kernel_info": {
   "name": "python3"
  },
  "kernelspec": {
   "display_name": "Python 3",
   "language": "python",
   "name": "python3"
  },
  "language_info": {
   "codemirror_mode": {
    "name": "ipython",
    "version": 3
   },
   "file_extension": ".py",
   "mimetype": "text/x-python",
   "name": "python",
   "nbconvert_exporter": "python",
   "pygments_lexer": "ipython3",
   "version": "3.8.8"
  },
  "latex_envs": {
   "LaTeX_envs_menu_present": true,
   "autoclose": false,
   "autocomplete": true,
   "bibliofile": "biblio.bib",
   "cite_by": "apalike",
   "current_citInitial": 1,
   "eqLabelWithNumbers": true,
   "eqNumInitial": 1,
   "hotkeys": {
    "equation": "Ctrl-E",
    "itemize": "Ctrl-I"
   },
   "labels_anchors": false,
   "latex_user_defs": false,
   "report_style_numbering": false,
   "user_envs_cfg": false
  },
  "nteract": {
   "version": "0.12.3"
  }
 },
 "nbformat": 4,
 "nbformat_minor": 2
}
